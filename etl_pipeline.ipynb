{
 "cells": [
  {
   "cell_type": "code",
   "execution_count": 26,
   "metadata": {},
   "outputs": [],
   "source": [
    "import pandas as pd"
   ]
  },
  {
   "cell_type": "markdown",
   "metadata": {},
   "source": [
    "## Reading the DataSets"
   ]
  },
  {
   "cell_type": "code",
   "execution_count": 27,
   "metadata": {},
   "outputs": [
    {
     "ename": "FileNotFoundError",
     "evalue": "[Errno 2] No such file or directory: 'Data\\\\nycpayroll_2020.csv'",
     "output_type": "error",
     "traceback": [
      "\u001b[1;31m---------------------------------------------------------------------------\u001b[0m",
      "\u001b[1;31mFileNotFoundError\u001b[0m                         Traceback (most recent call last)",
      "Cell \u001b[1;32mIn[27], line 1\u001b[0m\n\u001b[1;32m----> 1\u001b[0m nycpayroll_2020_df \u001b[38;5;241m=\u001b[39m pd\u001b[38;5;241m.\u001b[39mread_csv(\u001b[38;5;124mr\u001b[39m\u001b[38;5;124m'\u001b[39m\u001b[38;5;124mData\u001b[39m\u001b[38;5;124m\\\u001b[39m\u001b[38;5;124mnycpayroll_2020.csv\u001b[39m\u001b[38;5;124m'\u001b[39m)\n\u001b[0;32m      2\u001b[0m nycpayroll_2021_df \u001b[38;5;241m=\u001b[39m pd\u001b[38;5;241m.\u001b[39mread_csv(\u001b[38;5;124mr\u001b[39m\u001b[38;5;124m'\u001b[39m\u001b[38;5;124mData\u001b[39m\u001b[38;5;124m\\\u001b[39m\u001b[38;5;124mnycpayroll_2021.csv\u001b[39m\u001b[38;5;124m'\u001b[39m)\n\u001b[0;32m      3\u001b[0m AgencyMaster_df \u001b[38;5;241m=\u001b[39m pd\u001b[38;5;241m.\u001b[39mread_csv(\u001b[38;5;124mr\u001b[39m\u001b[38;5;124m'\u001b[39m\u001b[38;5;124mData\u001b[39m\u001b[38;5;124m\\\u001b[39m\u001b[38;5;124mAgencyMaster.csv\u001b[39m\u001b[38;5;124m'\u001b[39m)\n",
      "File \u001b[1;32mc:\\Users\\HP\\anaconda3\\Lib\\site-packages\\pandas\\io\\parsers\\readers.py:948\u001b[0m, in \u001b[0;36mread_csv\u001b[1;34m(filepath_or_buffer, sep, delimiter, header, names, index_col, usecols, dtype, engine, converters, true_values, false_values, skipinitialspace, skiprows, skipfooter, nrows, na_values, keep_default_na, na_filter, verbose, skip_blank_lines, parse_dates, infer_datetime_format, keep_date_col, date_parser, date_format, dayfirst, cache_dates, iterator, chunksize, compression, thousands, decimal, lineterminator, quotechar, quoting, doublequote, escapechar, comment, encoding, encoding_errors, dialect, on_bad_lines, delim_whitespace, low_memory, memory_map, float_precision, storage_options, dtype_backend)\u001b[0m\n\u001b[0;32m    935\u001b[0m kwds_defaults \u001b[38;5;241m=\u001b[39m _refine_defaults_read(\n\u001b[0;32m    936\u001b[0m     dialect,\n\u001b[0;32m    937\u001b[0m     delimiter,\n\u001b[1;32m   (...)\u001b[0m\n\u001b[0;32m    944\u001b[0m     dtype_backend\u001b[38;5;241m=\u001b[39mdtype_backend,\n\u001b[0;32m    945\u001b[0m )\n\u001b[0;32m    946\u001b[0m kwds\u001b[38;5;241m.\u001b[39mupdate(kwds_defaults)\n\u001b[1;32m--> 948\u001b[0m \u001b[38;5;28;01mreturn\u001b[39;00m _read(filepath_or_buffer, kwds)\n",
      "File \u001b[1;32mc:\\Users\\HP\\anaconda3\\Lib\\site-packages\\pandas\\io\\parsers\\readers.py:611\u001b[0m, in \u001b[0;36m_read\u001b[1;34m(filepath_or_buffer, kwds)\u001b[0m\n\u001b[0;32m    608\u001b[0m _validate_names(kwds\u001b[38;5;241m.\u001b[39mget(\u001b[38;5;124m\"\u001b[39m\u001b[38;5;124mnames\u001b[39m\u001b[38;5;124m\"\u001b[39m, \u001b[38;5;28;01mNone\u001b[39;00m))\n\u001b[0;32m    610\u001b[0m \u001b[38;5;66;03m# Create the parser.\u001b[39;00m\n\u001b[1;32m--> 611\u001b[0m parser \u001b[38;5;241m=\u001b[39m TextFileReader(filepath_or_buffer, \u001b[38;5;241m*\u001b[39m\u001b[38;5;241m*\u001b[39mkwds)\n\u001b[0;32m    613\u001b[0m \u001b[38;5;28;01mif\u001b[39;00m chunksize \u001b[38;5;129;01mor\u001b[39;00m iterator:\n\u001b[0;32m    614\u001b[0m     \u001b[38;5;28;01mreturn\u001b[39;00m parser\n",
      "File \u001b[1;32mc:\\Users\\HP\\anaconda3\\Lib\\site-packages\\pandas\\io\\parsers\\readers.py:1448\u001b[0m, in \u001b[0;36mTextFileReader.__init__\u001b[1;34m(self, f, engine, **kwds)\u001b[0m\n\u001b[0;32m   1445\u001b[0m     \u001b[38;5;28mself\u001b[39m\u001b[38;5;241m.\u001b[39moptions[\u001b[38;5;124m\"\u001b[39m\u001b[38;5;124mhas_index_names\u001b[39m\u001b[38;5;124m\"\u001b[39m] \u001b[38;5;241m=\u001b[39m kwds[\u001b[38;5;124m\"\u001b[39m\u001b[38;5;124mhas_index_names\u001b[39m\u001b[38;5;124m\"\u001b[39m]\n\u001b[0;32m   1447\u001b[0m \u001b[38;5;28mself\u001b[39m\u001b[38;5;241m.\u001b[39mhandles: IOHandles \u001b[38;5;241m|\u001b[39m \u001b[38;5;28;01mNone\u001b[39;00m \u001b[38;5;241m=\u001b[39m \u001b[38;5;28;01mNone\u001b[39;00m\n\u001b[1;32m-> 1448\u001b[0m \u001b[38;5;28mself\u001b[39m\u001b[38;5;241m.\u001b[39m_engine \u001b[38;5;241m=\u001b[39m \u001b[38;5;28mself\u001b[39m\u001b[38;5;241m.\u001b[39m_make_engine(f, \u001b[38;5;28mself\u001b[39m\u001b[38;5;241m.\u001b[39mengine)\n",
      "File \u001b[1;32mc:\\Users\\HP\\anaconda3\\Lib\\site-packages\\pandas\\io\\parsers\\readers.py:1705\u001b[0m, in \u001b[0;36mTextFileReader._make_engine\u001b[1;34m(self, f, engine)\u001b[0m\n\u001b[0;32m   1703\u001b[0m     \u001b[38;5;28;01mif\u001b[39;00m \u001b[38;5;124m\"\u001b[39m\u001b[38;5;124mb\u001b[39m\u001b[38;5;124m\"\u001b[39m \u001b[38;5;129;01mnot\u001b[39;00m \u001b[38;5;129;01min\u001b[39;00m mode:\n\u001b[0;32m   1704\u001b[0m         mode \u001b[38;5;241m+\u001b[39m\u001b[38;5;241m=\u001b[39m \u001b[38;5;124m\"\u001b[39m\u001b[38;5;124mb\u001b[39m\u001b[38;5;124m\"\u001b[39m\n\u001b[1;32m-> 1705\u001b[0m \u001b[38;5;28mself\u001b[39m\u001b[38;5;241m.\u001b[39mhandles \u001b[38;5;241m=\u001b[39m get_handle(\n\u001b[0;32m   1706\u001b[0m     f,\n\u001b[0;32m   1707\u001b[0m     mode,\n\u001b[0;32m   1708\u001b[0m     encoding\u001b[38;5;241m=\u001b[39m\u001b[38;5;28mself\u001b[39m\u001b[38;5;241m.\u001b[39moptions\u001b[38;5;241m.\u001b[39mget(\u001b[38;5;124m\"\u001b[39m\u001b[38;5;124mencoding\u001b[39m\u001b[38;5;124m\"\u001b[39m, \u001b[38;5;28;01mNone\u001b[39;00m),\n\u001b[0;32m   1709\u001b[0m     compression\u001b[38;5;241m=\u001b[39m\u001b[38;5;28mself\u001b[39m\u001b[38;5;241m.\u001b[39moptions\u001b[38;5;241m.\u001b[39mget(\u001b[38;5;124m\"\u001b[39m\u001b[38;5;124mcompression\u001b[39m\u001b[38;5;124m\"\u001b[39m, \u001b[38;5;28;01mNone\u001b[39;00m),\n\u001b[0;32m   1710\u001b[0m     memory_map\u001b[38;5;241m=\u001b[39m\u001b[38;5;28mself\u001b[39m\u001b[38;5;241m.\u001b[39moptions\u001b[38;5;241m.\u001b[39mget(\u001b[38;5;124m\"\u001b[39m\u001b[38;5;124mmemory_map\u001b[39m\u001b[38;5;124m\"\u001b[39m, \u001b[38;5;28;01mFalse\u001b[39;00m),\n\u001b[0;32m   1711\u001b[0m     is_text\u001b[38;5;241m=\u001b[39mis_text,\n\u001b[0;32m   1712\u001b[0m     errors\u001b[38;5;241m=\u001b[39m\u001b[38;5;28mself\u001b[39m\u001b[38;5;241m.\u001b[39moptions\u001b[38;5;241m.\u001b[39mget(\u001b[38;5;124m\"\u001b[39m\u001b[38;5;124mencoding_errors\u001b[39m\u001b[38;5;124m\"\u001b[39m, \u001b[38;5;124m\"\u001b[39m\u001b[38;5;124mstrict\u001b[39m\u001b[38;5;124m\"\u001b[39m),\n\u001b[0;32m   1713\u001b[0m     storage_options\u001b[38;5;241m=\u001b[39m\u001b[38;5;28mself\u001b[39m\u001b[38;5;241m.\u001b[39moptions\u001b[38;5;241m.\u001b[39mget(\u001b[38;5;124m\"\u001b[39m\u001b[38;5;124mstorage_options\u001b[39m\u001b[38;5;124m\"\u001b[39m, \u001b[38;5;28;01mNone\u001b[39;00m),\n\u001b[0;32m   1714\u001b[0m )\n\u001b[0;32m   1715\u001b[0m \u001b[38;5;28;01massert\u001b[39;00m \u001b[38;5;28mself\u001b[39m\u001b[38;5;241m.\u001b[39mhandles \u001b[38;5;129;01mis\u001b[39;00m \u001b[38;5;129;01mnot\u001b[39;00m \u001b[38;5;28;01mNone\u001b[39;00m\n\u001b[0;32m   1716\u001b[0m f \u001b[38;5;241m=\u001b[39m \u001b[38;5;28mself\u001b[39m\u001b[38;5;241m.\u001b[39mhandles\u001b[38;5;241m.\u001b[39mhandle\n",
      "File \u001b[1;32mc:\\Users\\HP\\anaconda3\\Lib\\site-packages\\pandas\\io\\common.py:863\u001b[0m, in \u001b[0;36mget_handle\u001b[1;34m(path_or_buf, mode, encoding, compression, memory_map, is_text, errors, storage_options)\u001b[0m\n\u001b[0;32m    858\u001b[0m \u001b[38;5;28;01melif\u001b[39;00m \u001b[38;5;28misinstance\u001b[39m(handle, \u001b[38;5;28mstr\u001b[39m):\n\u001b[0;32m    859\u001b[0m     \u001b[38;5;66;03m# Check whether the filename is to be opened in binary mode.\u001b[39;00m\n\u001b[0;32m    860\u001b[0m     \u001b[38;5;66;03m# Binary mode does not support 'encoding' and 'newline'.\u001b[39;00m\n\u001b[0;32m    861\u001b[0m     \u001b[38;5;28;01mif\u001b[39;00m ioargs\u001b[38;5;241m.\u001b[39mencoding \u001b[38;5;129;01mand\u001b[39;00m \u001b[38;5;124m\"\u001b[39m\u001b[38;5;124mb\u001b[39m\u001b[38;5;124m\"\u001b[39m \u001b[38;5;129;01mnot\u001b[39;00m \u001b[38;5;129;01min\u001b[39;00m ioargs\u001b[38;5;241m.\u001b[39mmode:\n\u001b[0;32m    862\u001b[0m         \u001b[38;5;66;03m# Encoding\u001b[39;00m\n\u001b[1;32m--> 863\u001b[0m         handle \u001b[38;5;241m=\u001b[39m \u001b[38;5;28mopen\u001b[39m(\n\u001b[0;32m    864\u001b[0m             handle,\n\u001b[0;32m    865\u001b[0m             ioargs\u001b[38;5;241m.\u001b[39mmode,\n\u001b[0;32m    866\u001b[0m             encoding\u001b[38;5;241m=\u001b[39mioargs\u001b[38;5;241m.\u001b[39mencoding,\n\u001b[0;32m    867\u001b[0m             errors\u001b[38;5;241m=\u001b[39merrors,\n\u001b[0;32m    868\u001b[0m             newline\u001b[38;5;241m=\u001b[39m\u001b[38;5;124m\"\u001b[39m\u001b[38;5;124m\"\u001b[39m,\n\u001b[0;32m    869\u001b[0m         )\n\u001b[0;32m    870\u001b[0m     \u001b[38;5;28;01melse\u001b[39;00m:\n\u001b[0;32m    871\u001b[0m         \u001b[38;5;66;03m# Binary mode\u001b[39;00m\n\u001b[0;32m    872\u001b[0m         handle \u001b[38;5;241m=\u001b[39m \u001b[38;5;28mopen\u001b[39m(handle, ioargs\u001b[38;5;241m.\u001b[39mmode)\n",
      "\u001b[1;31mFileNotFoundError\u001b[0m: [Errno 2] No such file or directory: 'Data\\\\nycpayroll_2020.csv'"
     ]
    }
   ],
   "source": [
    "nycpayroll_2020_df = pd.read_csv(r'Data\\nycpayroll_2020.csv')\n",
    "nycpayroll_2021_df = pd.read_csv(r'Data\\nycpayroll_2021.csv')\n",
    "AgencyMaster_df = pd.read_csv(r'Data\\AgencyMaster.csv')\n",
    "EmpMaster_df = pd.read_csv(r'Data\\EmpMaster.csv')\n",
    "TitleMaster_df = pd.read_csv(r'Data\\TitleMaster.csv')"
   ]
  },
  {
   "cell_type": "code",
   "execution_count": null,
   "metadata": {},
   "outputs": [
    {
     "name": "stdout",
     "output_type": "stream",
     "text": [
      "<class 'pandas.core.frame.DataFrame'>\n",
      "RangeIndex: 1446 entries, 0 to 1445\n",
      "Data columns (total 2 columns):\n",
      " #   Column            Non-Null Count  Dtype \n",
      "---  ------            --------------  ----- \n",
      " 0   TitleCode         1446 non-null   int64 \n",
      " 1   TitleDescription  1445 non-null   object\n",
      "dtypes: int64(1), object(1)\n",
      "memory usage: 22.7+ KB\n"
     ]
    }
   ],
   "source": [
    "TitleMaster_df.info()"
   ]
  },
  {
   "cell_type": "code",
   "execution_count": null,
   "metadata": {},
   "outputs": [
    {
     "name": "stdout",
     "output_type": "stream",
     "text": [
      "<class 'pandas.core.frame.DataFrame'>\n",
      "RangeIndex: 153 entries, 0 to 152\n",
      "Data columns (total 2 columns):\n",
      " #   Column      Non-Null Count  Dtype \n",
      "---  ------      --------------  ----- \n",
      " 0   AgencyID    153 non-null    int64 \n",
      " 1   AgencyName  153 non-null    object\n",
      "dtypes: int64(1), object(1)\n",
      "memory usage: 2.5+ KB\n"
     ]
    }
   ],
   "source": [
    "AgencyMaster_df.info()"
   ]
  },
  {
   "cell_type": "code",
   "execution_count": null,
   "metadata": {},
   "outputs": [
    {
     "name": "stdout",
     "output_type": "stream",
     "text": [
      "<class 'pandas.core.frame.DataFrame'>\n",
      "RangeIndex: 100 entries, 0 to 99\n",
      "Data columns (total 19 columns):\n",
      " #   Column                 Non-Null Count  Dtype  \n",
      "---  ------                 --------------  -----  \n",
      " 0   FiscalYear             100 non-null    int64  \n",
      " 1   PayrollNumber          100 non-null    int64  \n",
      " 2   AgencyID               100 non-null    int64  \n",
      " 3   AgencyName             100 non-null    object \n",
      " 4   EmployeeID             100 non-null    int64  \n",
      " 5   LastName               100 non-null    object \n",
      " 6   FirstName              100 non-null    object \n",
      " 7   AgencyStartDate        100 non-null    object \n",
      " 8   WorkLocationBorough    100 non-null    object \n",
      " 9   TitleCode              100 non-null    int64  \n",
      " 10  TitleDescription       100 non-null    object \n",
      " 11  LeaveStatusasofJune30  100 non-null    object \n",
      " 12  BaseSalary             100 non-null    float64\n",
      " 13  PayBasis               100 non-null    object \n",
      " 14  RegularHours           100 non-null    float64\n",
      " 15  RegularGrossPaid       100 non-null    float64\n",
      " 16  OTHours                100 non-null    float64\n",
      " 17  TotalOTPaid            100 non-null    float64\n",
      " 18  TotalOtherPay          100 non-null    float64\n",
      "dtypes: float64(6), int64(5), object(8)\n",
      "memory usage: 15.0+ KB\n"
     ]
    }
   ],
   "source": [
    "nycpayroll_2020_df.info()"
   ]
  },
  {
   "cell_type": "code",
   "execution_count": null,
   "metadata": {},
   "outputs": [],
   "source": []
  },
  {
   "cell_type": "code",
   "execution_count": null,
   "metadata": {},
   "outputs": [
    {
     "name": "stdout",
     "output_type": "stream",
     "text": [
      "<class 'pandas.core.frame.DataFrame'>\n",
      "RangeIndex: 101 entries, 0 to 100\n",
      "Data columns (total 19 columns):\n",
      " #   Column                 Non-Null Count  Dtype  \n",
      "---  ------                 --------------  -----  \n",
      " 0   FiscalYear             101 non-null    int64  \n",
      " 1   PayrollNumber          101 non-null    int64  \n",
      " 2   AgencyCode             101 non-null    int64  \n",
      " 3   AgencyName             101 non-null    object \n",
      " 4   EmployeeID             101 non-null    int64  \n",
      " 5   LastName               101 non-null    object \n",
      " 6   FirstName              101 non-null    object \n",
      " 7   AgencyStartDate        101 non-null    object \n",
      " 8   WorkLocationBorough    101 non-null    object \n",
      " 9   TitleCode              101 non-null    int64  \n",
      " 10  TitleDescription       101 non-null    object \n",
      " 11  LeaveStatusasofJune30  101 non-null    object \n",
      " 12  BaseSalary             101 non-null    float64\n",
      " 13  PayBasis               101 non-null    object \n",
      " 14  RegularHours           101 non-null    int64  \n",
      " 15  RegularGrossPaid       101 non-null    float64\n",
      " 16  OTHours                101 non-null    float64\n",
      " 17  TotalOTPaid            101 non-null    float64\n",
      " 18  TotalOtherPay          101 non-null    float64\n",
      "dtypes: float64(5), int64(6), object(8)\n",
      "memory usage: 15.1+ KB\n"
     ]
    }
   ],
   "source": [
    "nycpayroll_2021_df.info()"
   ]
  },
  {
   "cell_type": "markdown",
   "metadata": {},
   "source": [
    "## CLEANING AND TRANSFORMATION"
   ]
  },
  {
   "cell_type": "code",
   "execution_count": null,
   "metadata": {},
   "outputs": [],
   "source": [
    "# Rename 'AgencyID' in 2020 data to 'AgencyCode' to match 2021 data\n",
    "nycpayroll_2020_df.rename(columns={'AgencyID': 'AgencyCode'}, inplace=True)"
   ]
  },
  {
   "cell_type": "code",
   "execution_count": null,
   "metadata": {},
   "outputs": [
    {
     "name": "stdout",
     "output_type": "stream",
     "text": [
      "<class 'pandas.core.frame.DataFrame'>\n",
      "RangeIndex: 100 entries, 0 to 99\n",
      "Data columns (total 19 columns):\n",
      " #   Column                 Non-Null Count  Dtype  \n",
      "---  ------                 --------------  -----  \n",
      " 0   FiscalYear             100 non-null    int64  \n",
      " 1   PayrollNumber          100 non-null    int64  \n",
      " 2   AgencyCode             100 non-null    int64  \n",
      " 3   AgencyName             100 non-null    object \n",
      " 4   EmployeeID             100 non-null    int64  \n",
      " 5   LastName               100 non-null    object \n",
      " 6   FirstName              100 non-null    object \n",
      " 7   AgencyStartDate        100 non-null    object \n",
      " 8   WorkLocationBorough    100 non-null    object \n",
      " 9   TitleCode              100 non-null    int64  \n",
      " 10  TitleDescription       100 non-null    object \n",
      " 11  LeaveStatusasofJune30  100 non-null    object \n",
      " 12  BaseSalary             100 non-null    float64\n",
      " 13  PayBasis               100 non-null    object \n",
      " 14  RegularHours           100 non-null    float64\n",
      " 15  RegularGrossPaid       100 non-null    float64\n",
      " 16  OTHours                100 non-null    float64\n",
      " 17  TotalOTPaid            100 non-null    float64\n",
      " 18  TotalOtherPay          100 non-null    float64\n",
      "dtypes: float64(6), int64(5), object(8)\n",
      "memory usage: 15.0+ KB\n"
     ]
    }
   ],
   "source": [
    "nycpayroll_2020_df.info()"
   ]
  },
  {
   "cell_type": "code",
   "execution_count": null,
   "metadata": {},
   "outputs": [],
   "source": [
    "# Convert 'AgencyStartDate' to datetime format in both datasets\n",
    "nycpayroll_2020_df['AgencyStartDate'] = pd.to_datetime(nycpayroll_2020_df['AgencyStartDate'], errors='coerce')\n",
    "nycpayroll_2021_df['AgencyStartDate'] = pd.to_datetime(nycpayroll_2021_df['AgencyStartDate'], errors='coerce')"
   ]
  },
  {
   "cell_type": "code",
   "execution_count": 28,
   "metadata": {},
   "outputs": [
    {
     "name": "stdout",
     "output_type": "stream",
     "text": [
      "Index(['FiscalYear', 'PayrollNumber', 'AgencyCode', 'AgencyName', 'EmployeeID',\n",
      "       'LastName', 'FirstName', 'AgencyStartDate', 'WorkLocationBorough',\n",
      "       'TitleCode', 'TitleDescription', 'LeaveStatusasofJune30', 'BaseSalary',\n",
      "       'PayBasis', 'RegularHours', 'RegularGrossPaid', 'OTHours',\n",
      "       'TotalOTPaid', 'TotalOtherPay'],\n",
      "      dtype='object')\n"
     ]
    }
   ],
   "source": [
    "print(nycpayroll_2021_df.columns)\n"
   ]
  },
  {
   "cell_type": "code",
   "execution_count": null,
   "metadata": {},
   "outputs": [
    {
     "name": "stdout",
     "output_type": "stream",
     "text": [
      "Missing values in nycpayroll_2020_df:\n",
      "FiscalYear               0\n",
      "PayrollNumber            0\n",
      "AgencyCode               0\n",
      "AgencyName               0\n",
      "EmployeeID               0\n",
      "LastName                 0\n",
      "FirstName                0\n",
      "AgencyStartDate          0\n",
      "WorkLocationBorough      0\n",
      "TitleCode                0\n",
      "TitleDescription         0\n",
      "LeaveStatusasofJune30    0\n",
      "BaseSalary               0\n",
      "PayBasis                 0\n",
      "RegularHours             0\n",
      "RegularGrossPaid         0\n",
      "OTHours                  0\n",
      "TotalOTPaid              0\n",
      "TotalOtherPay            0\n",
      "dtype: int64\n",
      "Missing values in nycpayroll_2021_df:\n",
      "FiscalYear               0\n",
      "PayrollNumber            0\n",
      "AgencyCode               0\n",
      "AgencyName               0\n",
      "EmployeeID               0\n",
      "LastName                 0\n",
      "FirstName                0\n",
      "AgencyStartDate          0\n",
      "WorkLocationBorough      0\n",
      "TitleCode                0\n",
      "TitleDescription         0\n",
      "LeaveStatusasofJune30    0\n",
      "BaseSalary               0\n",
      "PayBasis                 0\n",
      "RegularHours             0\n",
      "RegularGrossPaid         0\n",
      "OTHours                  0\n",
      "TotalOTPaid              0\n",
      "TotalOtherPay            0\n",
      "dtype: int64\n",
      "Missing values in AgencyMaster_df:\n",
      "AgencyID      0\n",
      "AgencyName    0\n",
      "dtype: int64\n",
      "Missing values in EmpMaster_df:\n",
      "EmployeeID    0\n",
      "LastName      0\n",
      "FirstName     0\n",
      "dtype: int64\n",
      "Missing values in TitleMaster_df:\n",
      "TitleCode           0\n",
      "TitleDescription    0\n",
      "dtype: int64\n"
     ]
    }
   ],
   "source": [
    "\n",
    "# Check for missing values in all datasets\n",
    "print(\"Missing values in nycpayroll_2020_df:\")\n",
    "print(nycpayroll_2020_df.isnull().sum())\n",
    "\n",
    "print(\"Missing values in nycpayroll_2021_df:\")\n",
    "print(nycpayroll_2021_df.isnull().sum())\n",
    "\n",
    "print(\"Missing values in AgencyMaster_df:\")\n",
    "print(AgencyMaster_df.isnull().sum())\n",
    "\n",
    "print(\"Missing values in EmpMaster_df:\")\n",
    "print(EmpMaster_df.isnull().sum())\n",
    "\n",
    "print(\"Missing values in TitleMaster_df:\")\n",
    "print(TitleMaster_df.isnull().sum())"
   ]
  },
  {
   "cell_type": "code",
   "execution_count": null,
   "metadata": {},
   "outputs": [],
   "source": [
    "TitleMaster_df['TitleDescription'].fillna('Unknown', inplace=True)\n"
   ]
  },
  {
   "cell_type": "code",
   "execution_count": null,
   "metadata": {},
   "outputs": [
    {
     "data": {
      "text/plain": [
       "(    FiscalYear  PayrollNumber  AgencyCode                      AgencyName  \\\n",
       " 0         2020             17        2120  OFFICE OF EMERGENCY MANAGEMENT   \n",
       " 1         2020             17        2120  OFFICE OF EMERGENCY MANAGEMENT   \n",
       " 2         2020             17        2120  OFFICE OF EMERGENCY MANAGEMENT   \n",
       " 3         2020             17        2120  OFFICE OF EMERGENCY MANAGEMENT   \n",
       " 4         2020             17        2120  OFFICE OF EMERGENCY MANAGEMENT   \n",
       " ..         ...            ...         ...                             ...   \n",
       " 95        2020             19        2122   OFFICE OF MANAGEMENT & BUDGET   \n",
       " 96        2020             19        2122   OFFICE OF MANAGEMENT & BUDGET   \n",
       " 97        2020             19        2122   OFFICE OF MANAGEMENT & BUDGET   \n",
       " 98        2020             19        2122   OFFICE OF MANAGEMENT & BUDGET   \n",
       " 99        1998             19        2122   OFFICE OF MANAGEMENT & BUDGET   \n",
       " \n",
       "     EmployeeID    LastName  FirstName AgencyStartDate WorkLocationBorough  \\\n",
       " 0        10001      GEAGER   VERONICA      2016-09-12            BROOKLYN   \n",
       " 1       149612       ROTTA   JONATHAN      2013-09-16            BROOKLYN   \n",
       " 2       206583   WILSON II     ROBERT      2018-04-30            BROOKLYN   \n",
       " 3       199874  WASHINGTON     MORIAH      2019-03-18            BROOKLYN   \n",
       " 4        58036    KRAWCZYK     AMANDA      2017-05-15            BROOKLYN   \n",
       " ..         ...         ...        ...             ...                 ...   \n",
       " 95       33054     HIGGINS      JAMES      1982-06-21           MANHATTAN   \n",
       " 96       19997   GREENBERG      DAVID      2008-07-14           MANHATTAN   \n",
       " 97       61906      LARSON  CHRISTINE      2005-12-25           MANHATTAN   \n",
       " 98       19003    GRATHWOL       JOHN      1988-09-27           MANHATTAN   \n",
       " 99       15188   GOLDSTEIN     JOSHUA      1999-01-04           MANHATTAN   \n",
       " \n",
       "     TitleCode                TitleDescription LeaveStatusasofJune30  \\\n",
       " 0       40447  EMERGENCY PREPAREDNESS MANAGER                ACTIVE   \n",
       " 1       40447  EMERGENCY PREPAREDNESS MANAGER                ACTIVE   \n",
       " 2       40447  EMERGENCY PREPAREDNESS MANAGER                ACTIVE   \n",
       " 3       40447  EMERGENCY PREPAREDNESS MANAGER                ACTIVE   \n",
       " 4       40447  EMERGENCY PREPAREDNESS MANAGER                ACTIVE   \n",
       " ..        ...                             ...                   ...   \n",
       " 95      40306        COMPUTER SYSTEMS MANAGER                ACTIVE   \n",
       " 96      40199                  BUDGET ANALYST                ACTIVE   \n",
       " 97      40199                  BUDGET ANALYST                ACTIVE   \n",
       " 98      40199                  BUDGET ANALYST                CEASED   \n",
       " 99      40199                  BUDGET ANALYST                ACTIVE   \n",
       " \n",
       "     BaseSalary   PayBasis  RegularHours  RegularGrossPaid  OTHours  \\\n",
       " 0      86005.0  per Annum        1820.0          84698.21      0.0   \n",
       " 1      86005.0  per Annum        1820.0          84698.21      0.0   \n",
       " 2      86005.0  per Annum        1820.0          84698.21      0.0   \n",
       " 3      86005.0  per Annum        1820.0          87900.95      0.0   \n",
       " 4      86005.0  per Annum        1820.0          83976.54      0.0   \n",
       " ..         ...        ...           ...               ...      ...   \n",
       " 95    195826.0  per Annum        1820.0         192850.37      0.0   \n",
       " 96    196950.0  per Annum        1820.0         192107.94      0.0   \n",
       " 97    185843.0  per Annum        1820.0         183019.14      0.0   \n",
       " 98    216431.0  per Annum           0.0              0.00      0.0   \n",
       " 99    176785.0  per Annum        1820.0         174098.86      0.0   \n",
       " \n",
       "     TotalOTPaid  TotalOtherPay  \n",
       " 0           0.0           0.00  \n",
       " 1           0.0           0.00  \n",
       " 2           0.0           0.00  \n",
       " 3           0.0       -3202.74  \n",
       " 4           0.0           0.00  \n",
       " ..          ...            ...  \n",
       " 95          0.0           0.00  \n",
       " 96          0.0         500.00  \n",
       " 97          0.0           0.00  \n",
       " 98          0.0      180605.85  \n",
       " 99          0.0           0.00  \n",
       " \n",
       " [100 rows x 19 columns],\n",
       "     FiscalYear  PayrollNumber  AgencyCode                      AgencyName  \\\n",
       " 0         2020             17        2120  OFFICE OF EMERGENCY MANAGEMENT   \n",
       " 1         2020             17        2120  OFFICE OF EMERGENCY MANAGEMENT   \n",
       " 2         2020             17        2120  OFFICE OF EMERGENCY MANAGEMENT   \n",
       " 3         2020             17        2120  OFFICE OF EMERGENCY MANAGEMENT   \n",
       " 4         2020             17        2120  OFFICE OF EMERGENCY MANAGEMENT   \n",
       " ..         ...            ...         ...                             ...   \n",
       " 95        2020             19        2122   OFFICE OF MANAGEMENT & BUDGET   \n",
       " 96        2020             19        2122   OFFICE OF MANAGEMENT & BUDGET   \n",
       " 97        2020             19        2122   OFFICE OF MANAGEMENT & BUDGET   \n",
       " 98        2020             19        2122   OFFICE OF MANAGEMENT & BUDGET   \n",
       " 99        1998             19        2122   OFFICE OF MANAGEMENT & BUDGET   \n",
       " \n",
       "     EmployeeID    LastName  FirstName AgencyStartDate WorkLocationBorough  \\\n",
       " 0        10001      GEAGER   VERONICA      2016-09-12            BROOKLYN   \n",
       " 1       149612       ROTTA   JONATHAN      2013-09-16            BROOKLYN   \n",
       " 2       206583   WILSON II     ROBERT      2018-04-30            BROOKLYN   \n",
       " 3       199874  WASHINGTON     MORIAH      2019-03-18            BROOKLYN   \n",
       " 4        58036    KRAWCZYK     AMANDA      2017-05-15            BROOKLYN   \n",
       " ..         ...         ...        ...             ...                 ...   \n",
       " 95       33054     HIGGINS      JAMES      1982-06-21           MANHATTAN   \n",
       " 96       19997   GREENBERG      DAVID      2008-07-14           MANHATTAN   \n",
       " 97       61906      LARSON  CHRISTINE      2005-12-25           MANHATTAN   \n",
       " 98       19003    GRATHWOL       JOHN      1988-09-27           MANHATTAN   \n",
       " 99       15188   GOLDSTEIN     JOSHUA      1999-01-04           MANHATTAN   \n",
       " \n",
       "     TitleCode                TitleDescription LeaveStatusasofJune30  \\\n",
       " 0       40447  EMERGENCY PREPAREDNESS MANAGER                ACTIVE   \n",
       " 1       40447  EMERGENCY PREPAREDNESS MANAGER                ACTIVE   \n",
       " 2       40447  EMERGENCY PREPAREDNESS MANAGER                ACTIVE   \n",
       " 3       40447  EMERGENCY PREPAREDNESS MANAGER                ACTIVE   \n",
       " 4       40447  EMERGENCY PREPAREDNESS MANAGER                ACTIVE   \n",
       " ..        ...                             ...                   ...   \n",
       " 95      40306        COMPUTER SYSTEMS MANAGER                ACTIVE   \n",
       " 96      40199                  BUDGET ANALYST                ACTIVE   \n",
       " 97      40199                  BUDGET ANALYST                ACTIVE   \n",
       " 98      40199                  BUDGET ANALYST                CEASED   \n",
       " 99      40199                  BUDGET ANALYST                ACTIVE   \n",
       " \n",
       "     BaseSalary   PayBasis  RegularHours  RegularGrossPaid  OTHours  \\\n",
       " 0      86005.0  per Annum        1820.0          84698.21      0.0   \n",
       " 1      86005.0  per Annum        1820.0          84698.21      0.0   \n",
       " 2      86005.0  per Annum        1820.0          84698.21      0.0   \n",
       " 3      86005.0  per Annum        1820.0          87900.95      0.0   \n",
       " 4      86005.0  per Annum        1820.0          83976.54      0.0   \n",
       " ..         ...        ...           ...               ...      ...   \n",
       " 95    195826.0  per Annum        1820.0         192850.37      0.0   \n",
       " 96    196950.0  per Annum        1820.0         192107.94      0.0   \n",
       " 97    185843.0  per Annum        1820.0         183019.14      0.0   \n",
       " 98    216431.0  per Annum           0.0              0.00      0.0   \n",
       " 99    176785.0  per Annum        1820.0         174098.86      0.0   \n",
       " \n",
       "     TotalOTPaid  TotalOtherPay  \n",
       " 0           0.0           0.00  \n",
       " 1           0.0           0.00  \n",
       " 2           0.0           0.00  \n",
       " 3           0.0       -3202.74  \n",
       " 4           0.0           0.00  \n",
       " ..          ...            ...  \n",
       " 95          0.0           0.00  \n",
       " 96          0.0         500.00  \n",
       " 97          0.0           0.00  \n",
       " 98          0.0      180605.85  \n",
       " 99          0.0           0.00  \n",
       " \n",
       " [100 rows x 19 columns])"
      ]
     },
     "execution_count": 14,
     "metadata": {},
     "output_type": "execute_result"
    }
   ],
   "source": [
    "# Convert numerical columns to appropriate data types\n",
    "num_columns = ['BaseSalary', 'RegularHours', 'RegularGrossPaid', 'OTHours', 'TotalOTPaid', 'TotalOtherPay']\n",
    "\n",
    "# Convert columns to numeric, coercing errors to NaN\n",
    "nycpayroll_2020_df[num_columns] = nycpayroll_2020_df[num_columns].apply(pd.to_numeric, errors='coerce')\n",
    "nycpayroll_2021_df[num_columns] = nycpayroll_2021_df[num_columns].apply(pd.to_numeric, errors='coerce')\n",
    "\n",
    "\n",
    "# Output the missing values summary\n",
    "nycpayroll_2020_df, nycpayroll_2020_df\n"
   ]
  },
  {
   "cell_type": "markdown",
   "metadata": {},
   "source": [
    "## SAVING DATA TO CSV"
   ]
  },
  {
   "cell_type": "code",
   "execution_count": null,
   "metadata": {},
   "outputs": [],
   "source": [
    "# Renaming the dataframes for clarity\n",
    "NYCPayroll_2020_clean = nycpayroll_2020_df\n",
    "NYCPayroll_2021_clean = nycpayroll_2021_df\n",
    "AGENCYMaster_clean = AgencyMaster_df\n",
    "EMPLOYEEMaster_clean = EmpMaster_df\n",
    "TITLEMaster_clean = TitleMaster_df"
   ]
  },
  {
   "cell_type": "code",
   "execution_count": null,
   "metadata": {},
   "outputs": [],
   "source": [
    "# Saving to CSV\n",
    "NYCPayroll_2020_clean.to_csv(r'Clean_DataSet/NYCPayroll_2020_clean.csv', index=False)\n",
    "NYCPayroll_2021_clean.to_csv(r'Clean_DataSet/NYCPayroll_2021_clean.csv', index=False)\n",
    "AGENCYMaster_clean.to_csv(r'Clean_DataSet/AGENCYMaster_clean.csv', index=False)\n",
    "EMPLOYEEMaster_clean.to_csv(r'Clean_DataSet/EMPLOYEEMaster_clean.csv', index=False)\n",
    "TITLEMaster_clean.to_csv(r'Clean_DataSet/TITLEMaster_clean.csv', index=False)"
   ]
  },
  {
   "cell_type": "code",
   "execution_count": null,
   "metadata": {},
   "outputs": [],
   "source": []
  }
 ],
 "metadata": {
  "kernelspec": {
   "display_name": "base",
   "language": "python",
   "name": "python3"
  },
  "language_info": {
   "codemirror_mode": {
    "name": "ipython",
    "version": 3
   },
   "file_extension": ".py",
   "mimetype": "text/x-python",
   "name": "python",
   "nbconvert_exporter": "python",
   "pygments_lexer": "ipython3",
   "version": "3.11.7"
  }
 },
 "nbformat": 4,
 "nbformat_minor": 2
}
